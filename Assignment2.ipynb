{
 "cells": [
  {
   "cell_type": "code",
   "execution_count": 1,
   "id": "91610bca-dc49-43e9-bd69-f30238e3e7b4",
   "metadata": {},
   "outputs": [],
   "source": [
    "#Hugh MacDonald 40264778"
   ]
  },
  {
   "cell_type": "code",
   "execution_count": 2,
   "id": "9a142c49-e5a8-4f22-a1e1-8f6f346efaa3",
   "metadata": {
    "jupyter": {
     "source_hidden": true
    }
   },
   "outputs": [],
   "source": [
    "#assignment 2, I'll be making a hockey rink (5px = 1 foot)"
   ]
  },
  {
   "cell_type": "code",
   "execution_count": 3,
   "id": "7c835c9c-333d-475d-900c-95d1a47b2c16",
   "metadata": {
    "jupyter": {
     "source_hidden": true
    }
   },
   "outputs": [],
   "source": [
    "#importing packages\n",
    "import matplotlib.pyplot as plt\n",
    "import matplotlib.patches as ptc\n",
    "#patches is a collection of patches like circles and polygons\n",
    "import numpy as np"
   ]
  },
  {
   "cell_type": "code",
   "execution_count": 4,
   "id": "3e9e8d55-e43a-458c-b433-ddccbe72cd79",
   "metadata": {
    "collapsed": true,
    "jupyter": {
     "outputs_hidden": true,
     "source_hidden": true
    }
   },
   "outputs": [
    {
     "data": {
      "text/plain": [
       "(np.float64(0.0), np.float64(200.0), np.float64(0.0), np.float64(85.0))"
      ]
     },
     "execution_count": 4,
     "metadata": {},
     "output_type": "execute_result"
    },
    {
     "data": {
      "image/png": "[encoded data removed]",
      "text/plain": [
       "<Figure size 1000x425 with 1 Axes>"
      ]
     },
     "metadata": {},
     "output_type": "display_data"
    }
   ],
   "source": [
    "#defining rink as a plot\n",
    "#subplots is a tuple, figure and axes.\n",
    "#making figsize 1000 pixels, would mean that a 200 x 85 feet = 1000 x 425 pixels\n",
    "# 5 pixels = 1 foot \n",
    "\n",
    "#standard dpi, dots per inch = 100\n",
    "#way figzise works is unit x dpi, so 10 x 100 =1000 pixels wide,\n",
    "#4.25 x 100 =425 pixels high\n",
    "\n",
    "rink,axes = plt.subplots(figsize = (10,4.25),dpi = 100)\n",
    "\n",
    "#making rink's dimensions, standard unit = FEET\n",
    "    #nhl standard 200 x 85 feet\n",
    "axes.set_xlim(0,200)\n",
    "axes.set_ylim(0,85)\n",
    "\n",
    "#making aspect ratio equal so scaling of axes doesn't warp shapes\n",
    "    #was making circle earlier and it became ellipse because of axes scaling\n",
    "axes.set_aspect('equal')\n",
    "axes.axis('off')\n",
    "\n"
   ]
  },
  {
   "cell_type": "code",
   "execution_count": 5,
   "id": "a32e8d45-00eb-4a06-9432-cd9e2a2460da",
   "metadata": {
    "jupyter": {
     "source_hidden": true
    }
   },
   "outputs": [
    {
     "data": {
      "text/plain": [
       "<matplotlib.patches.Circle at 0x26252e73d90>"
      ]
     },
     "execution_count": 5,
     "metadata": {},
     "output_type": "execute_result"
    }
   ],
   "source": [
    "#defining center ice, 2 circles.\n",
    "#middle circle is 1 foot in diameter\n",
    "center_ice_mid = ptc.Circle((100,42.5), radius = 0.5, facecolor = 'blue')\n",
    "\n",
    "#outer ring radius of 15 feet, thickness of 2 inches = 1/6\n",
    "center_ice_outer = ptc.Circle ((100,42.5), radius = 15, facecolor = 'none', edgecolor = 'blue', linewidth = 1/6)\n",
    "\n",
    "#adding center ice\n",
    "axes.add_patch(center_ice_mid)\n",
    "axes.add_patch(center_ice_outer)"
   ]
  },
  {
   "cell_type": "code",
   "execution_count": 14,
   "id": "0c82a614-bd02-4437-838b-1bf62b3d57cf",
   "metadata": {
    "jupyter": {
     "source_hidden": true
    }
   },
   "outputs": [
    {
     "data": {
      "text/plain": [
       "[<matplotlib.lines.Line2D at 0x26252f59090>]"
      ]
     },
     "execution_count": 14,
     "metadata": {},
     "output_type": "execute_result"
    }
   ],
   "source": [
    "#adding boards, each corner is an arc with 28 foot radius\n",
    "    #arc command arguments: tuple for center, total width, total height, \n",
    "    #angle = rotation, theta1 = start angle from x axis, theta2 = end angle from x axis.\n",
    "    #linewidth of 2 just so the edges are a bit thicker\n",
    "tlboard = ptc.Arc((28,85-28),56,56, \n",
    "                    angle = 0, theta1 = 90, theta2 = 180, linewidth = 2)\n",
    "blboard = ptc.Arc((28,28),56,56, \n",
    "                    angle = 0, theta1 = 180, theta2 = 270, linewidth = 2)\n",
    "trboard = ptc.Arc((200-28,85-28),56,56, \n",
    "                    angle = 0, theta1 = 0, theta2 = 90, linewidth = 2)\n",
    "brboard = ptc.Arc((200-28,28),56,56, \n",
    "                    angle = 0, theta1 = 270, theta2 = 0, linewidth = 2)\n",
    "#adding each to the rink\n",
    "for x in [tlboard,blboard,trboard,brboard]:\n",
    "    axes.add_patch(x)\n",
    "    \n",
    "#still needs straight sections of the boards\n",
    "#using axes.plot to make a line from one coordinate to antoher. \n",
    "    #note that it is in format [x1,x2], [y1,y2] to map (x1,y1) to (x2,y2)\n",
    "#bottom line\n",
    "axes.plot([28,200-28],[0,0],color = 'black', linewidth = 2)\n",
    "#top line\n",
    "axes.plot([28,200-28],[85,85],color = 'black', linewidth = 2)\n",
    "#left line\n",
    "axes.plot([0,0],[28,85-28],color = 'black', linewidth = 2)\n",
    "#right line \n",
    "axes.plot([200,200],[28,85-28],color = 'black', linewidth = 2)"
   ]
  },
  {
   "cell_type": "code",
   "execution_count": 7,
   "id": "c080c57c-934f-4924-b495-64ab79961526",
   "metadata": {
    "jupyter": {
     "source_hidden": true
    }
   },
   "outputs": [
    {
     "data": {
      "text/plain": [
       "[<matplotlib.lines.Line2D at 0x26252ea5810>]"
      ]
     },
     "execution_count": 7,
     "metadata": {},
     "output_type": "execute_result"
    }
   ],
   "source": [
    "#now adding red and blue lines \n",
    "\n",
    "#centerline, red line in centter with thickness of 1 foot\n",
    "axes.plot([100,100],[0,85],color ='red', linewidth = 1)\n",
    "\n",
    "#blue lines, dark blue with thickness of 1 foot dividing the rink into thirds\n",
    "axes.plot([75,75],[0,85], color = 'darkblue', linewidth = 1)\n",
    "axes.plot([125,125],[0,85], color = 'darkblue', linewidth = 1)\n",
    "\n",
    "#goal lines, 11 feet from sides, width of 2 inches = 1/6\n",
    "#intersects the boards' arc at y=28-sqrt(28**2 - 17**2)\n",
    "arcpt = 28 - (28**2-17**2)**(1/2)\n",
    "axes.plot([11,11],[arcpt,85-arcpt],color = 'red', linewidth = 1/6)\n",
    "axes.plot([200-11,200-11],[arcpt,85-arcpt],color = 'red', linewidth = 1/6)"
   ]
  },
  {
   "cell_type": "code",
   "execution_count": 8,
   "id": "486e9201-b0c6-43e9-8b97-9ca25227a665",
   "metadata": {
    "jupyter": {
     "source_hidden": true
    }
   },
   "outputs": [
    {
     "data": {
      "text/plain": [
       "<matplotlib.patches.Arc at 0x26252ea5f90>"
      ]
     },
     "execution_count": 8,
     "metadata": {},
     "output_type": "execute_result"
    }
   ],
   "source": [
    "#now adding goal creases.\n",
    "#goal crease is centered along goal line, boxed with arc as one side\n",
    "#note that nhl crease is different from other leagues\n",
    "\n",
    "#making left goal crease\n",
    "#starting with lines 4 feet off center which meet an arc of radius 6, thickness of 2 inches = 1/6\n",
    "axes.plot([11,11+20**(1/2)],[42.5-4,42.5-4],color = 'red', linewidth = 1/6)\n",
    "axes.plot([11,11+20**(1/2)],[42.5+4,42.5+4],color = 'red', linewidth = 1/6)\n",
    "#making arc \n",
    "#need to import math for arcsin function for angles\n",
    "import math\n",
    "#angle1 is where the arc starts and ends\n",
    "#doing some trig and converting to degrees\n",
    "angle1 = 180/math.pi*math.asin(2/3)\n",
    "#making arc of left goal crease\n",
    "goal_crease_arc_left = ptc.Arc((11,42.5),12,12, \n",
    "                                angle = 0, theta1 = -angle1, theta2 = angle1,\n",
    "                                color = 'red', linewidth = 1/6)\n",
    "axes.add_patch(goal_crease_arc_left)\n",
    "#making right goal crease\n",
    "axes.plot([200-11-20**(1/2),200-11],[42.5-4,42.5-4],color = 'red', linewidth = 1/6)\n",
    "axes.plot([200-11-20**(1/2),200-11],[42.5+4,42.5+4],color = 'red', linewidth = 1/6)\n",
    "goal_crease_arc_right = ptc.Arc((200-11,42.5),12,12,\n",
    "                                angle = 180, theta1 = -angle1, theta2 = angle1,\n",
    "                                color = 'red', linewidth = 1/6)\n",
    "axes.add_patch(goal_crease_arc_right)\n",
    "\n"
   ]
  },
  {
   "cell_type": "code",
   "execution_count": 9,
   "id": "ce2b95fa-6030-49af-88d0-0700e0ccc5c8",
   "metadata": {
    "jupyter": {
     "source_hidden": true
    }
   },
   "outputs": [],
   "source": [
    "#adding goals now, 6 feet by 40 inches with arced sides, going to 88 inches\n",
    "#trying to mimic the sides of the goal with a half line and arc\n",
    "#did some trig to find arc radius = 20.5/2 in\n",
    "#first plotting back of goal, then arcs that connect it to goal line\n",
    "\n",
    "#left goal first\n",
    "    #NOTE that actual goal distance is 6 feet in the back,\n",
    "    #removing 6 inches so it looks cleaner with the arcs (less boxy)\n",
    "#adding back line and side lines\n",
    "axes.plot([11-40/12,11-40/12],[42.5-2.5,42.5+2.5],color = 'red')\n",
    "axes.plot([11,11-20/12],[42.5+2.5,42.5+2.5],color = 'red')\n",
    "axes.plot([11,11-20/12],[42.5-2.5,42.5-2.5],color = 'red')\n",
    "\n",
    "#found angle for start and finish of arc on paper using trig \n",
    "angle2 = 180/math.pi*math.atan(20/4.5)\n",
    "\n",
    "#coding arcs for goal\n",
    "goal_arc_tl = ptc.Arc((11- 20/12 -10/12,42.5+(44-20.5)/12), 20.5/12, 20.5/12, \n",
    "                      angle = 90, theta1 = -angle2, theta2 = angle2,\n",
    "                      color = 'red' )\n",
    "goal_arc_bl = ptc.Arc((11- 20/12 -10/12,42.5-(44-20.5)/12), 20.5/12, 20.5/12, \n",
    "                      angle = -90, theta1 = -angle2, theta2 = angle2,\n",
    "                      color = 'red' )\n",
    "\n",
    "#now adding right goal, starting with the back and side lines\n",
    "axes.plot([200-11+40/12,200-11+40/12],[42.5-2.5,42.5+2.5],color = 'red')\n",
    "axes.plot([200-11,200-11+20/12],[42.5+2.5,42.5+2.5],color = 'red')\n",
    "axes.plot([200-11,200-11+20/12],[42.5-2.5,42.5-2.5],color = 'red')\n",
    "\n",
    "#arcs \n",
    "goal_arc_tr = ptc.Arc((200-11+20/12 +10/12,42.5+(44-20.5)/12), 20.5/12, 20.5/12, \n",
    "                      angle = 90, theta1 = -angle2, theta2 = angle2,\n",
    "                      color = 'red' )\n",
    "goal_arc_br = ptc.Arc((200-11+20/12 +10/12,42.5-(44-20.5)/12), 20.5/12, 20.5/12, \n",
    "                      angle = -90, theta1 = -angle2, theta2 = angle2,\n",
    "                      color = 'red' )\n",
    "\n",
    "#adding earlier defined arcs\n",
    "for x in [goal_arc_tl, goal_arc_bl, goal_arc_tr, goal_arc_br]:\n",
    "    axes.add_patch(x)"
   ]
  },
  {
   "cell_type": "code",
   "execution_count": 10,
   "id": "6ff39747-9d94-46aa-9053-7b73fd6487ff",
   "metadata": {
    "jupyter": {
     "source_hidden": true
    }
   },
   "outputs": [],
   "source": [
    "#now adding faceoff zones\n",
    "#neutral faceoff zones are 20 feet from the centerline, 44 feet apart vertically\n",
    "#Diameter = 2 feet\n",
    "#doing this by making a list of coordinates for the circles, with for loop\n",
    "#empty list to add circles to\n",
    "neutral_faceoff = []\n",
    "for x in [(100 - 20, 42.5 + 22),(100 - 20, 42.5 - 22),(100 + 20, 42.5 - 22), (100 + 20, 42.5 + 22)]:\n",
    "    neutral_faceoff.append(ptc.Circle(x, radius = 1, facecolor = 'red'))\n",
    "#adding circles to rink\n",
    "for x in neutral_faceoff:\n",
    "    axes.add_patch(x)\n",
    "\n",
    "#adding non defensive faceoff zones\n",
    "#these have a circle around the spot with a 30 foot diameter, 2 inch thickness\n",
    "#20 feet from the goal line, same y from centerline \n",
    "#empty list to add to \n",
    "defensive_faceoff = []\n",
    "#listing coordinates of defensive faceoff zones\n",
    "df_coords = [(11+20, 42.5+22),(11+20,42.5-22),(200-11-20,42.5+22),(200-11-20,42.5-22)]\n",
    "\n",
    "#using coord list to create inner spot and outer ring\n",
    "for x in df_coords:\n",
    "    #inner spot\n",
    "    defensive_faceoff.append(ptc.Circle(x, radius = 1, facecolor = 'red'))\n",
    "    #outer ring\n",
    "    defensive_faceoff.append(ptc.Circle(x, radius = 15, facecolor = 'none', edgecolor = 'red', linewidth = 1/6))\n",
    "#adding circles to rink\n",
    "for x in defensive_faceoff:\n",
    "    axes.add_patch(x)"
   ]
  },
  {
   "cell_type": "code",
   "execution_count": 15,
   "id": "3fc7c9f4-b4ea-4670-81a7-927eabdfd634",
   "metadata": {},
   "outputs": [
    {
     "data": {
      "image/png": "[encoded data removed]",
      "text/plain": [
       "<Figure size 1000x425 with 1 Axes>"
      ]
     },
     "execution_count": 15,
     "metadata": {},
     "output_type": "execute_result"
    }
   ],
   "source": [
    "\n",
    "rink"
   ]
  },
  {
   "cell_type": "code",
   "execution_count": null,
   "id": "85d8eec1-2f5a-4d9d-885c-bee69868d94c",
   "metadata": {},
   "outputs": [],
   "source": [
    "#exporting as png"
   ]
  },
  {
   "cell_type": "code",
   "execution_count": 16,
   "id": "f34b6fd0-66aa-4cd1-a7d8-76ca825b2b0c",
   "metadata": {},
   "outputs": [],
   "source": [
    "rink.savefig(\"A2rink.png\")"
   ]
  },
  {
   "cell_type": "code",
   "execution_count": null,
   "id": "b8967d4e-22a4-40e3-b065-480a8ecf43ff",
   "metadata": {},
   "outputs": [],
   "source": []
  }
 ],
 "metadata": {
  "kernelspec": {
   "display_name": "Python 3 (ipykernel)",
   "language": "python",
   "name": "python3"
  },
  "language_info": {
   "codemirror_mode": {
    "name": "ipython",
    "version": 3
   },
   "file_extension": ".py",
   "mimetype": "text/x-python",
   "name": "python",
   "nbconvert_exporter": "python",
   "pygments_lexer": "ipython3",
   "version": "3.13.7"
  }
 },
 "nbformat": 4,
 "nbformat_minor": 5
}
