{
 "cells": [
  {
   "cell_type": "code",
   "execution_count": 1,
   "id": "91610bca-dc49-43e9-bd69-f30238e3e7b4",
   "metadata": {},
   "outputs": [],
   "source": [
    "#Hugh MacDonald 40264778"
   ]
  },
  {
   "cell_type": "code",
   "execution_count": null,
   "id": "9a142c49-e5a8-4f22-a1e1-8f6f346efaa3",
   "metadata": {},
   "outputs": [],
   "source": []
  }
 ],
 "metadata": {
  "kernelspec": {
   "display_name": "Python 3 (ipykernel)",
   "language": "python",
   "name": "python3"
  },
  "language_info": {
   "codemirror_mode": {
    "name": "ipython",
    "version": 3
   },
   "file_extension": ".py",
   "mimetype": "text/x-python",
   "name": "python",
   "nbconvert_exporter": "python",
   "pygments_lexer": "ipython3",
   "version": "3.13.7"
  }
 },
 "nbformat": 4,
 "nbformat_minor": 5
}
